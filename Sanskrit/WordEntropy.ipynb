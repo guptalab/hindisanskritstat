{
 "cells": [
  {
   "cell_type": "code",
   "execution_count": 1,
   "metadata": {},
   "outputs": [],
   "source": [
    "import numpy as np\n",
    "import pandas as pd\n",
    "import matplotlib.pyplot as plt\n",
    "import MatplotlibKeyMap as mk"
   ]
  },
  {
   "cell_type": "code",
   "execution_count": 2,
   "metadata": {},
   "outputs": [],
   "source": [
    "filepath=\"Bhagavad_Gita/\""
   ]
  },
  {
   "cell_type": "code",
   "execution_count": 3,
   "metadata": {},
   "outputs": [],
   "source": [
    "def calculate_word(filepath):\n",
    "    df_words=pd.read_csv(filepath+\"words.csv\")\n",
    "    entropy=0\n",
    "\n",
    "    for i in range(len(df_words)):\n",
    "        p=df_words.iloc[i,2]\n",
    "        # print(f'Probility of {df_words.iloc[i,0]} is {p}')\n",
    "        entropy=entropy-p*np.log2(p)\n",
    "\n",
    "    print(f'Entropy of the {filepath} is {entropy}')"
   ]
  },
  {
   "cell_type": "code",
   "execution_count": 5,
   "metadata": {},
   "outputs": [
    {
     "name": "stdout",
     "output_type": "stream",
     "text": [
      "Entropy of the Bhagavad_Gita/ is 8.158536186905796\n",
      "Entropy of the Ramayana/Ramayana/ is 9.498422370370655\n",
      "Entropy of the combined/combined/ is 9.61766867967893\n",
      "Entropy of the ../Hindi/results/ is 10.198600958925248\n"
     ]
    }
   ],
   "source": [
    "calculate_word(\"Bhagavad_Gita/\")\n",
    "calculate_word(\"Ramayana/Ramayana/\")\n",
    "calculate_word(\"combined/combined/\")\n",
    "calculate_word(\"../Hindi/results/\")\n"
   ]
  },
  {
   "cell_type": "code",
   "execution_count": 6,
   "metadata": {},
   "outputs": [],
   "source": [
    "def calculate_word_till(filepath, n):\n",
    "    df_words=pd.read_csv(filepath+\"words.csv\")\n",
    "    entropy=0\n",
    "\n",
    "    for i in range(len(df_words)):\n",
    "        p=df_words.iloc[i,2]\n",
    "        # print(f'Probility of {df_words.iloc[i,0]} is {p}')\n",
    "        entropy=entropy-p*np.log2(p)\n",
    "\n",
    "    print(f'Entropy of the {filepath} is {entropy}')"
   ]
  },
  {
   "cell_type": "code",
   "execution_count": 8,
   "metadata": {},
   "outputs": [
    {
     "name": "stdout",
     "output_type": "stream",
     "text": [
      "Entropy of the combined/combined/ is 9.61766867967893\n",
      "Entropy of the ../Hindi/results/ is 10.198600958925248\n"
     ]
    }
   ],
   "source": [
    "calculate_word_till(\"combined/combined/\", 2547)\n",
    "calculate_word_till(\"../Hindi/results/\", 5993)\n"
   ]
  }
 ],
 "metadata": {
  "kernelspec": {
   "display_name": "base",
   "language": "python",
   "name": "python3"
  },
  "language_info": {
   "codemirror_mode": {
    "name": "ipython",
    "version": 3
   },
   "file_extension": ".py",
   "mimetype": "text/x-python",
   "name": "python",
   "nbconvert_exporter": "python",
   "pygments_lexer": "ipython3",
   "version": "3.11.0"
  },
  "orig_nbformat": 4
 },
 "nbformat": 4,
 "nbformat_minor": 2
}
