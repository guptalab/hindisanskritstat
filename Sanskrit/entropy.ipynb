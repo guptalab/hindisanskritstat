{
 "cells": [
  {
   "cell_type": "code",
   "execution_count": 11,
   "metadata": {},
   "outputs": [],
   "source": [
    "import numpy as np\n",
    "import pandas as pd\n",
    "import matplotlib.pyplot as plt\n",
    "import MatplotlibKeyMap as mk\n",
    "import os\n",
    "import SanskritCharts as hc\n"
   ]
  },
  {
   "cell_type": "code",
   "execution_count": 2,
   "metadata": {},
   "outputs": [
    {
     "name": "stdout",
     "output_type": "stream",
     "text": [
      "  word  frequency  probability\n",
      "0    च       2697     0.070560\n",
      "1    न       1512     0.039557\n",
      "2    स       1092     0.028569\n",
      "3   तु        949     0.024828\n",
      "4   हि        898     0.023494\n"
     ]
    }
   ],
   "source": [
    "df_words = pd.read_csv('./ZipfsGraph/sanskrit_words.csv')\n",
    "print(df_words.head())"
   ]
  },
  {
   "cell_type": "code",
   "execution_count": 3,
   "metadata": {},
   "outputs": [],
   "source": [
    "def calculate_ngram_frequency(n):\n",
    "    df_ngram = pd.DataFrame(columns=['ngram', 'Frequency'])\n",
    "    for i in range(0, len(df_words)):\n",
    "        word = df_words.loc[i]['word']\n",
    "        \n",
    "        for j in range(0, len(word) - n + 1):\n",
    "            ngram = word[j:j+n]\n",
    "            \n",
    "            if ngram in df_ngram['ngram'].values:\n",
    "                df_ngram.loc[df_ngram['ngram'] == ngram, 'Frequency'] += df_words.loc[i]['frequency']\n",
    "            else:\n",
    "                df_ngram.loc[len(df_ngram)] = [ngram, df_words.loc[i]['frequency']]\n",
    "\n",
    "    df_ngram['Probability'] = df_ngram['Frequency'] / df_ngram['Frequency'].sum()\n",
    "    df_ngram.to_csv('./ngram/ngram_' + str(n) + '.csv', index=False)\n",
    "    print(str(n) + \"-gram frequency calculated\")"
   ]
  },
  {
   "cell_type": "code",
   "execution_count": null,
   "metadata": {},
   "outputs": [],
   "source": [
    "for i in range(1, 10):\n",
    "    calculate_ngram_frequency(i)"
   ]
  },
  {
   "cell_type": "code",
   "execution_count": 12,
   "metadata": {},
   "outputs": [],
   "source": [
    "ngram_dict = {}\n",
    "\n",
    "for i in range(1, 10):\n",
    "    ngram_dict[i] = pd.read_csv('./ngram/ngram_' + str(i) + '.csv')"
   ]
  },
  {
   "cell_type": "code",
   "execution_count": 13,
   "metadata": {},
   "outputs": [
    {
     "name": "stdout",
     "output_type": "stream",
     "text": [
      "Total chars: 54\n",
      "F0: 5.754887502163468\n"
     ]
    }
   ],
   "source": [
    "total_chars = ngram_dict[1].shape[0]\n",
    "print(\"Total chars: \" + str(total_chars)) \n",
    "\n",
    "F0=np.log2(total_chars)\n",
    "\n",
    "print(\"F0: \" + str(F0))"
   ]
  },
  {
   "cell_type": "code",
   "execution_count": 14,
   "metadata": {},
   "outputs": [],
   "source": [
    "Fn = []\n",
    "Fn.append(F0)"
   ]
  },
  {
   "cell_type": "code",
   "execution_count": 15,
   "metadata": {},
   "outputs": [
    {
     "name": "stdout",
     "output_type": "stream",
     "text": [
      "F1: 4.758469530697246\n"
     ]
    }
   ],
   "source": [
    "F1 = ngram_dict[1]['Probability'].apply(lambda x: x * np.log2(x)).sum() * -1\n",
    "print(\"F1: \" + str(F1))\n",
    "\n",
    "Fn.append(F1)"
   ]
  },
  {
   "cell_type": "code",
   "execution_count": 16,
   "metadata": {},
   "outputs": [
    {
     "name": "stdout",
     "output_type": "stream",
     "text": [
      "F2: 3.585025229219596\n",
      "F3: 7.156750464523789\n",
      "F4: 4.861391668946407\n",
      "F5: 7.619893131937943\n",
      "F6: 4.799881581732771\n",
      "F7: 7.348874174862303\n",
      "F8: 4.385085218228676\n",
      "F9: 6.707589796910391\n"
     ]
    }
   ],
   "source": [
    "for i in range(2, 10):\n",
    "    Fi = ngram_dict[i]['Probability'].apply(lambda x: x * np.log2(x)).sum() * -1\n",
    "    Fi = Fi - Fn[len(Fn) - 1]\n",
    "    print(\"F\" + str(i) + \": \" + str(Fi))\n",
    "    Fn.append(Fi)"
   ]
  },
  {
   "cell_type": "code",
   "execution_count": 17,
   "metadata": {},
   "outputs": [],
   "source": [
    "df = pd.DataFrame(columns=['n', 'Fn'])\n",
    "\n",
    "for i in range(0, len(Fn)):\n",
    "    df.loc[i] = [i, Fn[i]]\n",
    "    \n",
    "df.to_csv('./ngram/ngram_entropy.csv', index=False)"
   ]
  },
  {
   "cell_type": "code",
   "execution_count": null,
   "metadata": {},
   "outputs": [],
   "source": []
  }
 ],
 "metadata": {
  "kernelspec": {
   "display_name": "Python 3",
   "language": "python",
   "name": "python3"
  },
  "language_info": {
   "codemirror_mode": {
    "name": "ipython",
    "version": 3
   },
   "file_extension": ".py",
   "mimetype": "text/x-python",
   "name": "python",
   "nbconvert_exporter": "python",
   "pygments_lexer": "ipython3",
   "version": "3.11.0"
  }
 },
 "nbformat": 4,
 "nbformat_minor": 2
}
